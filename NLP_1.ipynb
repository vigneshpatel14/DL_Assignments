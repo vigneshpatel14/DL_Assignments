{
  "nbformat": 4,
  "nbformat_minor": 0,
  "metadata": {
    "colab": {
      "provenance": [],
      "authorship_tag": "ABX9TyOtP6U8hlk0bF+ZFpwZhEDS"
    },
    "kernelspec": {
      "name": "python3",
      "display_name": "Python 3"
    },
    "language_info": {
      "name": "python"
    }
  },
  "cells": [
    {
      "cell_type": "markdown",
      "source": [
        "#1. What is the primary goal of Natural Language Processing (NLP)\n",
        "\n",
        " The primary objective is to bridge the gap between human communication and machine understanding. NLP allows computers to process, analyze, and respond to human language in a way that is both meaningful and useful, enabling applications like translation, sentiment analysis, and chatbots"
      ],
      "metadata": {
        "id": "MQbuBxMtSEJU"
      }
    },
    {
      "cell_type": "markdown",
      "source": [
        "#2. What does \"tokenization\" refer to in text processing\n",
        "\n",
        "Tokenization is the process of breaking text into smaller units, such as sentences or words. It is a foundational step in text processing, making it easier for algorithms to work with structured data rather than raw, unstructured text"
      ],
      "metadata": {
        "id": "3If6QpWFSK9r"
      }
    },
    {
      "cell_type": "markdown",
      "source": [
        "#3. What is the difference between lemmatization and stemming\n",
        "\n",
        "Lemmatization reduces words to their base form (e.g., \"running\" → \"run\") while considering the word's meaning and part of speech. Stemming, on the other hand, truncates words to their root form (e.g., \"running\" → \"run\"), often ignoring linguistic rules, which can lead to inaccuracies."
      ],
      "metadata": {
        "id": "Lfo0x3_YSQ5N"
      }
    },
    {
      "cell_type": "markdown",
      "source": [
        "#4. What is the role of regular expressions (regex) in text processing\n",
        "\n",
        "Regular expressions (regex) are powerful tools for identifying patterns in text. They can be used for tasks like removing unwanted characters, extracting dates, or finding words that match specific criteria, making them invaluable for preprocessing text data"
      ],
      "metadata": {
        "id": "us7UbdLHSdvp"
      }
    },
    {
      "cell_type": "markdown",
      "source": [
        "#5.  What is Word2Vec and how does it represent words in a vector space\n",
        "Word2Vec is a neural network-based model that transforms words into continuous vector representations. These vectors capture semantic similarities between words by analyzing their contexts in a large corpus, enabling better understanding of language nuances"
      ],
      "metadata": {
        "id": "2Ve5PegqTBWY"
      }
    },
    {
      "cell_type": "markdown",
      "source": [
        "#6. How does frequency distribution help in text analysis\n",
        "\n",
        "It involves calculating the occurrence of each word in a dataset. This helps in identifying key terms, understanding text patterns, and highlighting commonly used words, which can guide feature selection for machine learning models"
      ],
      "metadata": {
        "id": "H5l1bgBTTL0K"
      }
    },
    {
      "cell_type": "markdown",
      "source": [
        "#7. Why is text normalization important in NLP\n",
        "\n",
        "Normalization involves cleaning and standardizing text by converting it to lowercase, removing punctuation, and handling special characters. This ensures that the input text is uniform and reduces noise, improving the efficiency of NLP algorithms"
      ],
      "metadata": {
        "id": "T8slXDENTRfG"
      }
    },
    {
      "cell_type": "markdown",
      "source": [
        "#8. What is the difference between sentence tokenization and word tokenization\n",
        "\n",
        "Sentence tokenization splits text into individual sentences, which is useful for tasks like summarization. Word tokenization breaks sentences into words, helping in sentiment analysis, translation, and other granular NLP tasks"
      ],
      "metadata": {
        "id": "Z7cZlbatTXMy"
      }
    },
    {
      "cell_type": "markdown",
      "source": [
        "#9. What are co-occurrence vectors in NLP\n",
        "\n",
        "These vectors represent words based on the frequency with which they appear alongside other words in a given context. Co-occurrence helps in understanding relationships between terms, such as synonyms or associations"
      ],
      "metadata": {
        "id": "MpjUCxBfTetu"
      }
    },
    {
      "cell_type": "markdown",
      "source": [
        "#10. What is the significance of lemmatization in improving NLP tasks\n",
        "\n",
        "By reducing words to their base forms while preserving their meaning, lemmatization enhances the interpretability of text data and improves the performance of tasks like classification, translation, and search"
      ],
      "metadata": {
        "id": "SqpS7BBdTmaI"
      }
    },
    {
      "cell_type": "markdown",
      "source": [
        "#11.  What is the primary use of word embeddings in NLP\n",
        "\n",
        "Word embeddings like Word2Vec or GloVe encode words as vectors in a multi-dimensional space, capturing semantic relationships. This enables more nuanced NLP applications, such as recommendation systems or question-answering systems"
      ],
      "metadata": {
        "id": "ynmAd8GgTvAl"
      }
    },
    {
      "cell_type": "markdown",
      "source": [
        "#12. What is an annotator in NLP\n",
        "\n",
        "An annotator is used to enrich text data with labels or metadata, such as tagging parts of speech, entities, or sentiment. This labeled data is essential for training supervised machine learning models"
      ],
      "metadata": {
        "id": "NLl2-u8fT1hH"
      }
    },
    {
      "cell_type": "markdown",
      "source": [
        "#13. What are the key steps in text processing before applying machine learning models\n",
        "\n",
        "Text preprocessing typically involves tokenization, removing noise (like stop words or special characters), applying normalization, and transforming text into numerical representations such as TF-IDF or embeddings for further analysis"
      ],
      "metadata": {
        "id": "HOMh-zAUT-5o"
      }
    },
    {
      "cell_type": "markdown",
      "source": [
        "#14. What is the history of NLP and how has it evolved\n",
        "\n",
        "NLP began with rule-based systems in the 1950s, relying on handcrafted linguistic rules. It transitioned to statistical approaches in the 1990s, leveraging probabilistic models. The current era uses deep learning, enabling advancements in translation, sentiment analysis, and conversational AI"
      ],
      "metadata": {
        "id": "0pDHwcfJUH8g"
      }
    },
    {
      "cell_type": "markdown",
      "source": [
        "#15. Why is sentence processing important in NLP\n",
        "\n",
        "Sentence processing ensures that context and syntactic structures are preserved, which is critical for tasks like summarization, translation, or question answering, where meaning depends on sentence-level understanding"
      ],
      "metadata": {
        "id": "Y4_SHoFKUQ0r"
      }
    },
    {
      "cell_type": "markdown",
      "source": [
        "#16. How do word embeddings improve the understanding of language semantics in NLP\n",
        "\n",
        "Embeddings allow algorithms to understand relationships between words, such as analogies (\"king\" - \"man\" + \"woman\" = \"queen\"). This enhances models' ability to grasp subtleties in language and perform better in complex tasks"
      ],
      "metadata": {
        "id": "XiMw52vcUYKK"
      }
    },
    {
      "cell_type": "markdown",
      "source": [
        "#17. How does the frequency distribution of words help in text classification\n",
        "\n",
        "By analyzing word occurrences, frequency distribution helps identify which terms are most indicative of specific categories, aiding in building more accurate text classification models"
      ],
      "metadata": {
        "id": "xgMJT4elUe7k"
      }
    },
    {
      "cell_type": "markdown",
      "source": [
        "#18. What are the advantages of using regex in text cleaning\n",
        "\n",
        "Regex simplifies text cleaning by enabling precise removal or replacement of unwanted characters, validation of formats (e.g., email addresses), and quick text parsing for specific patterns, saving significant manual effort"
      ],
      "metadata": {
        "id": "pcr5H60GUlkh"
      }
    },
    {
      "cell_type": "markdown",
      "source": [
        "#19. What is the difference between word2vec and doc2vec\n",
        "\n",
        "While Word2Vec creates vectors for individual words, Doc2Vec extends this concept to entire documents, capturing the context of entire paragraphs or texts, which is useful for recommendation systems and document clustering"
      ],
      "metadata": {
        "id": "tPjaKmvPUsM7"
      }
    },
    {
      "cell_type": "markdown",
      "source": [
        "#20. Why is understanding text normalization important in NLP\n",
        "\n",
        "Text normalization standardizes text data to a consistent format, such as converting “US” and “USA” to the same form. This reduces redundancy and ensures accurate analysis by models, especially in large datasets"
      ],
      "metadata": {
        "id": "wuDCotvlU2gy"
      }
    },
    {
      "cell_type": "markdown",
      "source": [
        "#21. How does word count help in text analysis\n",
        "\n",
        "Word count provides insights into the length, complexity, and relevance of a text. It can be used to identify frequently occurring words, measure verbosity, or detect keyword density, which is critical for sentiment analysis, keyword extraction, and content evaluation."
      ],
      "metadata": {
        "id": "jlkQaDgPU-_u"
      }
    },
    {
      "cell_type": "markdown",
      "source": [
        "#22. How does lemmatization help in NLP tasks like search engines and chatbots\n",
        "\n",
        "Lemmatization standardizes words to their base form, allowing search engines and chatbots to match queries and responses more effectively. For example, it ensures that \"run,\" \"running,\" and \"ran\" are treated as the same concept, improving the accuracy of information retrieval and conversational AI"
      ],
      "metadata": {
        "id": "UT64eXaKVJWc"
      }
    },
    {
      "cell_type": "markdown",
      "source": [
        "#23. What is the purpose of using Doc2Vec in text processing\n",
        "\n",
        "Doc2Vec generates vector representations for entire documents, capturing the overall context and semantic relationships. This is valuable for tasks like document clustering, classification, recommendation systems, and summarization"
      ],
      "metadata": {
        "id": "oDwdboGNVRS-"
      }
    },
    {
      "cell_type": "markdown",
      "source": [
        "#24. What is the importance of sentence processing in NLP\n",
        "\n",
        "Sentence processing ensures that context, grammar, and syntax are preserved. This is vital for tasks like summarization, translation, and question answering, where meaning depends on sentence-level relationships"
      ],
      "metadata": {
        "id": "ry23DKc7VXsb"
      }
    },
    {
      "cell_type": "markdown",
      "source": [
        "#25.  What is text normalization, and what are the common techniques used in it\n",
        "\n",
        "Text normalization is the process of transforming text into a standard format to reduce noise and inconsistency. Common techniques include lowercasing, removing punctuation, stemming/lemmatization, stop-word removal, and handling contractions (e.g., \"don't\" → \"do not\")"
      ],
      "metadata": {
        "id": "t5M4ZMFyVdtb"
      }
    },
    {
      "cell_type": "markdown",
      "source": [
        "#26.  Why is word tokenization important in NLP\n",
        "\n",
        "Word tokenization breaks text into individual words, forming the basis for further analysis like counting, vectorization, or semantic analysis. It allows algorithms to focus on each word as a discrete unit of information"
      ],
      "metadata": {
        "id": "WcNpAKZ8VjKo"
      }
    },
    {
      "cell_type": "markdown",
      "source": [
        "#27.  How does sentence tokenization differ from word tokenization in NLP\n",
        "\n",
        "Sentence tokenization divides text into sentences, preserving grammatical structure and higher-level meaning, while word tokenization breaks sentences into words for more granular analysis"
      ],
      "metadata": {
        "id": "Qnsq6r5DVpvo"
      }
    },
    {
      "cell_type": "markdown",
      "source": [
        "#28. What is the primary purpose of text processing in NLP\n",
        "\n",
        "The main goal of text processing is to prepare raw text for analysis by cleaning, structuring, and transforming it into a format suitable for machine learning models, ensuring consistent and meaningful input"
      ],
      "metadata": {
        "id": "ulG46bb7VuyY"
      }
    },
    {
      "cell_type": "markdown",
      "source": [
        "#29.  What are the key challenges in NLP\n",
        "\n",
        " NLP faces challenges like ambiguity in language, understanding context, handling idioms, managing diverse languages and dialects, dealing with noisy data, and ensuring computational efficiency in large datasets"
      ],
      "metadata": {
        "id": "IgYil1MLV2v_"
      }
    },
    {
      "cell_type": "markdown",
      "source": [
        "#30. How do co-occurrence vectors represent relationships between words\n",
        "\n",
        "Co-occurrence vectors track how often words appear together within a defined context window. These vectors reveal relationships, such as synonyms or associations, by highlighting patterns in word usage"
      ],
      "metadata": {
        "id": "nkpjQYpGV8jw"
      }
    },
    {
      "cell_type": "markdown",
      "source": [
        "#31. What is the role of frequency distribution in text analysis\n",
        "\n",
        "Frequency distribution identifies the most and least common words in a text, helping detect trends, extract features, or prioritize key terms for classification or summarization tasks"
      ],
      "metadata": {
        "id": "NzJUgDwfWIOn"
      }
    },
    {
      "cell_type": "markdown",
      "source": [
        "#32. What is the impact of word embeddings on NLP tasks\n",
        "\n",
        "Word embeddings like Word2Vec or GloVe encode semantic and syntactic similarities between words. They enhance tasks like translation, sentiment analysis, and chatbot interactions by providing richer and more meaningful representations"
      ],
      "metadata": {
        "id": "wQWxD_l_WQKX"
      }
    },
    {
      "cell_type": "markdown",
      "source": [
        "#33. What is the purpose of using lemmatization in text preprocessing\n",
        "\n",
        "Lemmatization reduces words to their meaningful base forms, ensuring consistency and improving the relevance of features in tasks like search, classification, and clustering. It enhances the quality of analysis by addressing inflected forms of words"
      ],
      "metadata": {
        "id": "2YXnYPG3WYm_"
      }
    },
    {
      "cell_type": "markdown",
      "source": [
        "#PRACTICAL"
      ],
      "metadata": {
        "id": "hzrCNjb0Whs8"
      }
    },
    {
      "cell_type": "code",
      "source": [
        "import nltk\n",
        "nltk.download('punkt_tab')\n",
        "nltk.download('stopwords')\n",
        "nltk.download('wordnet')\n",
        "nltk.download('averaged_perceptron_tagger')\n",
        "nltk.download('averaged_perceptron_tagger_eng')\n",
        "nltk.download('maxent_ne_chunker')\n",
        "nltk.download('words')\n",
        "nltk.download('maxent_ne_chunker_tab')"
      ],
      "metadata": {
        "colab": {
          "base_uri": "https://localhost:8080/"
        },
        "id": "rFNJz_DwXEia",
        "outputId": "bbb3e19a-4d46-4ba8-b57e-ff26010ae6c5"
      },
      "execution_count": 34,
      "outputs": [
        {
          "output_type": "stream",
          "name": "stderr",
          "text": [
            "[nltk_data] Downloading package punkt_tab to /root/nltk_data...\n",
            "[nltk_data]   Package punkt_tab is already up-to-date!\n",
            "[nltk_data] Downloading package stopwords to /root/nltk_data...\n",
            "[nltk_data]   Package stopwords is already up-to-date!\n",
            "[nltk_data] Downloading package wordnet to /root/nltk_data...\n",
            "[nltk_data]   Package wordnet is already up-to-date!\n",
            "[nltk_data] Downloading package averaged_perceptron_tagger to\n",
            "[nltk_data]     /root/nltk_data...\n",
            "[nltk_data]   Package averaged_perceptron_tagger is already up-to-\n",
            "[nltk_data]       date!\n",
            "[nltk_data] Downloading package averaged_perceptron_tagger_eng to\n",
            "[nltk_data]     /root/nltk_data...\n",
            "[nltk_data]   Package averaged_perceptron_tagger_eng is already up-to-\n",
            "[nltk_data]       date!\n",
            "[nltk_data] Downloading package maxent_ne_chunker to\n",
            "[nltk_data]     /root/nltk_data...\n",
            "[nltk_data]   Package maxent_ne_chunker is already up-to-date!\n",
            "[nltk_data] Downloading package words to /root/nltk_data...\n",
            "[nltk_data]   Package words is already up-to-date!\n",
            "[nltk_data] Downloading package maxent_ne_chunker_tab to\n",
            "[nltk_data]     /root/nltk_data...\n",
            "[nltk_data]   Unzipping chunkers/maxent_ne_chunker_tab.zip.\n"
          ]
        },
        {
          "output_type": "execute_result",
          "data": {
            "text/plain": [
              "True"
            ]
          },
          "metadata": {},
          "execution_count": 34
        }
      ]
    },
    {
      "cell_type": "code",
      "execution_count": 5,
      "metadata": {
        "colab": {
          "base_uri": "https://localhost:8080/"
        },
        "id": "d5jsrIZASBe0",
        "outputId": "f9112acb-5ad6-4ae9-e0b8-23f9ab26af21"
      },
      "outputs": [
        {
          "output_type": "stream",
          "name": "stdout",
          "text": [
            "['Tokenization', 'is', 'an', 'essential', 'step', 'in', 'NLP', '.']\n"
          ]
        }
      ],
      "source": [
        "#1. How can you perform word tokenization using NLTK\n",
        "\n",
        "from nltk.tokenize import word_tokenize\n",
        "\n",
        "text = \"Tokenization is an essential step in NLP.\"\n",
        "words = word_tokenize(text)\n",
        "print(words)"
      ]
    },
    {
      "cell_type": "code",
      "source": [
        "#2. How can you perform sentence tokenization using NLTK\n",
        "\n",
        "from nltk.tokenize import sent_tokenize\n",
        "\n",
        "text = \"Tokenization is an essential step in NLP. It helps break text into sentences.\"\n",
        "sentences = sent_tokenize(text)\n",
        "print(sentences)"
      ],
      "metadata": {
        "colab": {
          "base_uri": "https://localhost:8080/"
        },
        "id": "AteWwqabW9Hx",
        "outputId": "732fde4a-8d6f-42c4-fe02-266fb2386c74"
      },
      "execution_count": 6,
      "outputs": [
        {
          "output_type": "stream",
          "name": "stdout",
          "text": [
            "['Tokenization is an essential step in NLP.', 'It helps break text into sentences.']\n"
          ]
        }
      ]
    },
    {
      "cell_type": "code",
      "source": [
        "#3. How can you remove stopwords from a sentence\n",
        "\n",
        "from nltk.corpus import stopwords\n",
        "from nltk.tokenize import word_tokenize\n",
        "\n",
        "text = \"Tokenization is an essential step in NLP. It helps break text into sentences.\"\n",
        "stop_words = set(stopwords.words('english'))\n",
        "text = \"This is a sample sentence, showing off stopword removal.\"\n",
        "\n",
        "words = word_tokenize(text)\n",
        "\n",
        "nsen = [word for word in words if word.lower() not in stop_words]\n",
        "nsen"
      ],
      "metadata": {
        "colab": {
          "base_uri": "https://localhost:8080/"
        },
        "id": "139owF98XOG8",
        "outputId": "c8a57526-c13d-4831-8eb5-2b790623e99b"
      },
      "execution_count": 11,
      "outputs": [
        {
          "output_type": "execute_result",
          "data": {
            "text/plain": [
              "['sample', 'sentence', ',', 'showing', 'stopword', 'removal', '.']"
            ]
          },
          "metadata": {},
          "execution_count": 11
        }
      ]
    },
    {
      "cell_type": "code",
      "source": [
        "#4. How can you perform stemming on a word\n",
        "\n",
        "from nltk.stem import PorterStemmer\n",
        "\n",
        "stemmer = PorterStemmer()\n",
        "\n",
        "stemmer.stem(\"Dancing\")"
      ],
      "metadata": {
        "colab": {
          "base_uri": "https://localhost:8080/",
          "height": 36
        },
        "id": "aOjJ2U6IXoZ2",
        "outputId": "8f14cd5a-4c70-41b6-d1ef-eabb5ece6ea2"
      },
      "execution_count": 12,
      "outputs": [
        {
          "output_type": "execute_result",
          "data": {
            "text/plain": [
              "'danc'"
            ],
            "application/vnd.google.colaboratory.intrinsic+json": {
              "type": "string"
            }
          },
          "metadata": {},
          "execution_count": 12
        }
      ]
    },
    {
      "cell_type": "code",
      "source": [
        "#5. How can you perform lemmatization on a word\n",
        "\n",
        "from nltk.stem import WordNetLemmatizer\n",
        "\n",
        "lemmi = WordNetLemmatizer()\n",
        "\n",
        "\n",
        "lemmi.lemmatize(\"running\" , pos='v')"
      ],
      "metadata": {
        "colab": {
          "base_uri": "https://localhost:8080/",
          "height": 36
        },
        "id": "Tlad0Jp4YCUk",
        "outputId": "71eccdab-9bcc-4260-a4e0-a9b5e00ea176"
      },
      "execution_count": 18,
      "outputs": [
        {
          "output_type": "execute_result",
          "data": {
            "text/plain": [
              "'run'"
            ],
            "application/vnd.google.colaboratory.intrinsic+json": {
              "type": "string"
            }
          },
          "metadata": {},
          "execution_count": 18
        }
      ]
    },
    {
      "cell_type": "code",
      "source": [
        "#6. How can you normalize a text by converting it to lowercase and removing punctuation\n",
        "\n",
        "import string\n",
        "text = \"Hello, World! This is NLP.\"\n",
        "normatext = text.lower().translate(str.maketrans('', '', string.punctuation))\n",
        "normatext"
      ],
      "metadata": {
        "colab": {
          "base_uri": "https://localhost:8080/",
          "height": 36
        },
        "id": "aTkwxruDYSvD",
        "outputId": "df3da4a5-5a35-4f20-9727-a415dcd3283b"
      },
      "execution_count": 19,
      "outputs": [
        {
          "output_type": "execute_result",
          "data": {
            "text/plain": [
              "'hello world this is nlp'"
            ],
            "application/vnd.google.colaboratory.intrinsic+json": {
              "type": "string"
            }
          },
          "metadata": {},
          "execution_count": 19
        }
      ]
    },
    {
      "cell_type": "code",
      "source": [
        "string.punctuation"
      ],
      "metadata": {
        "colab": {
          "base_uri": "https://localhost:8080/",
          "height": 36
        },
        "id": "2iWX3f8CYzVz",
        "outputId": "dd8e4265-990f-4a0b-a6c9-d51d5616d745"
      },
      "execution_count": 20,
      "outputs": [
        {
          "output_type": "execute_result",
          "data": {
            "text/plain": [
              "'!\"#$%&\\'()*+,-./:;<=>?@[\\\\]^_`{|}~'"
            ],
            "application/vnd.google.colaboratory.intrinsic+json": {
              "type": "string"
            }
          },
          "metadata": {},
          "execution_count": 20
        }
      ]
    },
    {
      "cell_type": "code",
      "source": [
        "#7. How can you create a co-occurrence matrix for words in a corpus\n",
        "\n",
        "from collections import Counter\n",
        "from itertools import combinations\n",
        "import numpy as np\n",
        "corpus = [\"this is a test\", \"test this now\"]\n",
        "words = [word for sentence in corpus for word in sentence.split()]\n",
        "vocab = set(words)\n",
        "word_to_index = {word: i for i, word in enumerate(vocab)}\n",
        "co_occurrence = np.zeros((len(vocab), len(vocab)))\n",
        "for sentence in corpus:\n",
        "    tokens = sentence.split()\n",
        "    for word1, word2 in combinations(tokens, 2):\n",
        "        co_occurrence[word_to_index[word1], word_to_index[word2]] += 1\n",
        "print(co_occurrence)"
      ],
      "metadata": {
        "colab": {
          "base_uri": "https://localhost:8080/"
        },
        "id": "kVCEYcWCY4If",
        "outputId": "23c1583a-e42d-4523-cf4e-ced109844d1f"
      },
      "execution_count": 21,
      "outputs": [
        {
          "output_type": "stream",
          "name": "stdout",
          "text": [
            "[[0. 0. 0. 1. 0.]\n",
            " [0. 0. 0. 0. 0.]\n",
            " [1. 0. 0. 1. 0.]\n",
            " [0. 1. 0. 0. 1.]\n",
            " [1. 1. 1. 1. 0.]]\n"
          ]
        }
      ]
    },
    {
      "cell_type": "code",
      "source": [
        "#8. How can you apply a regular expression to extract all email addresses from a text\n",
        "import re\n",
        "\n",
        "text = \"Contact us at support@example.com or admin@example.org.\"\n",
        "\n",
        "emails = re.findall(r\"[a-zA-Z0-9._%+-]+@[a-zA-Z0-9.-]+\\.[a-zA-Z]{2,}\", text)\n",
        "\n",
        "emails"
      ],
      "metadata": {
        "colab": {
          "base_uri": "https://localhost:8080/"
        },
        "id": "geu7gL7uZBks",
        "outputId": "9550af70-3511-48bf-cbbf-525ca0abedbd"
      },
      "execution_count": 22,
      "outputs": [
        {
          "output_type": "execute_result",
          "data": {
            "text/plain": [
              "['support@example.com', 'admin@example.org']"
            ]
          },
          "metadata": {},
          "execution_count": 22
        }
      ]
    },
    {
      "cell_type": "code",
      "source": [
        "#9. How can you perform word embedding using Word2Vec\n",
        "\n",
        "from gensim.models import Word2Vec\n",
        "sentences = [[\"this\", \"is\", \"a\", \"sentence\"], [\"another\", \"sentence\"]]\n",
        "model = Word2Vec(sentences, vector_size=100, window=5, min_count=1, workers=4)\n",
        "print(model.wv['sentence'])"
      ],
      "metadata": {
        "colab": {
          "base_uri": "https://localhost:8080/"
        },
        "id": "ZWcXY22GZdBK",
        "outputId": "06c81fb5-3af0-40c9-d3b7-e2097db8df78"
      },
      "execution_count": 23,
      "outputs": [
        {
          "output_type": "stream",
          "name": "stdout",
          "text": [
            "[-5.3622725e-04  2.3643136e-04  5.1033497e-03  9.0092728e-03\n",
            " -9.3029495e-03 -7.1168090e-03  6.4588725e-03  8.9729885e-03\n",
            " -5.0154282e-03 -3.7633716e-03  7.3805046e-03 -1.5334714e-03\n",
            " -4.5366134e-03  6.5540518e-03 -4.8601604e-03 -1.8160177e-03\n",
            "  2.8765798e-03  9.9187379e-04 -8.2852151e-03 -9.4488179e-03\n",
            "  7.3117660e-03  5.0702621e-03  6.7576934e-03  7.6286553e-04\n",
            "  6.3508903e-03 -3.4053659e-03 -9.4640139e-04  5.7685734e-03\n",
            " -7.5216377e-03 -3.9361035e-03 -7.5115822e-03 -9.3004224e-04\n",
            "  9.5381187e-03 -7.3191668e-03 -2.3337686e-03 -1.9377411e-03\n",
            "  8.0774371e-03 -5.9308959e-03  4.5162440e-05 -4.7537340e-03\n",
            " -9.6035507e-03  5.0072931e-03 -8.7595852e-03 -4.3918253e-03\n",
            " -3.5099984e-05 -2.9618145e-04 -7.6612402e-03  9.6147433e-03\n",
            "  4.9820580e-03  9.2331432e-03 -8.1579173e-03  4.4957981e-03\n",
            " -4.1370760e-03  8.2453608e-04  8.4986202e-03 -4.4621765e-03\n",
            "  4.5175003e-03 -6.7869602e-03 -3.5484887e-03  9.3985079e-03\n",
            " -1.5776526e-03  3.2137157e-04 -4.1406299e-03 -7.6826881e-03\n",
            " -1.5080082e-03  2.4697948e-03 -8.8802696e-04  5.5336617e-03\n",
            " -2.7429771e-03  2.2600652e-03  5.4557943e-03  8.3459532e-03\n",
            " -1.4537406e-03 -9.2081428e-03  4.3705525e-03  5.7178497e-04\n",
            "  7.4419081e-03 -8.1328274e-04 -2.6384138e-03 -8.7530091e-03\n",
            " -8.5655687e-04  2.8265631e-03  5.4014288e-03  7.0526563e-03\n",
            " -5.7031214e-03  1.8588197e-03  6.0888636e-03 -4.7980510e-03\n",
            " -3.1072604e-03  6.7976294e-03  1.6314756e-03  1.8991709e-04\n",
            "  3.4736372e-03  2.1777749e-04  9.6188262e-03  5.0606038e-03\n",
            " -8.9173904e-03 -7.0415605e-03  9.0145587e-04  6.3925339e-03]\n"
          ]
        }
      ]
    },
    {
      "cell_type": "code",
      "source": [
        "#10 How can you use Doc2Vec to embed documents\n",
        "\n",
        "from gensim.models.doc2vec import Doc2Vec, TaggedDocument\n",
        "documents = [TaggedDocument(words=[\"this\", \"is\", \"a\", \"document\"], tags=[\"doc1\"]),\n",
        "             TaggedDocument(words=[\"another\", \"document\"], tags=[\"doc2\"])]\n",
        "model = Doc2Vec(documents, vector_size=100, window=5, min_count=1, workers=4)\n",
        "print(model.dv['doc1'])"
      ],
      "metadata": {
        "colab": {
          "base_uri": "https://localhost:8080/"
        },
        "id": "ODrcLQxcZtEy",
        "outputId": "dbe4dde7-eb32-4e12-dae0-8f3ed7600abc"
      },
      "execution_count": 24,
      "outputs": [
        {
          "output_type": "stream",
          "name": "stdout",
          "text": [
            "[-5.2355267e-03 -5.9844456e-03 -9.8897200e-03  8.5604899e-03\n",
            "  3.5694197e-03  2.6337631e-04 -9.8895291e-03 -5.1712417e-03\n",
            " -9.7267916e-03  2.0126814e-03  2.8327717e-03  4.6476945e-03\n",
            " -4.3010390e-03 -3.1485099e-03 -3.0814710e-03 -8.7298239e-03\n",
            "  2.1744852e-03  9.2340345e-03 -9.5104724e-03 -3.4612655e-03\n",
            " -3.7733740e-03  2.6096341e-03 -5.6966823e-03  2.6229536e-03\n",
            "  5.8078133e-03 -8.1141870e-03 -8.3371522e-03 -9.9635124e-03\n",
            "  4.9373605e-03 -9.1304360e-03  5.8472902e-03  6.8062753e-03\n",
            " -6.5123215e-03 -4.5239935e-03 -1.2560665e-03  1.6477579e-03\n",
            " -1.4826801e-03 -8.5501494e-03 -3.6058282e-03  1.7331718e-03\n",
            " -2.0588269e-03 -7.2365240e-03  4.1883108e-03 -8.5819159e-03\n",
            "  2.7140365e-03 -4.6178224e-03  6.4603472e-04 -2.0592245e-03\n",
            "  5.4180427e-03 -8.0097811e-03 -2.1217216e-03 -9.5920666e-05\n",
            " -6.6447859e-03 -6.5321256e-03 -1.9348082e-03  8.8112727e-03\n",
            " -1.2643547e-03  3.5390689e-03 -5.7555512e-03  8.8226525e-03\n",
            "  2.9181503e-03  9.2879403e-03  4.3538664e-03 -4.2033135e-03\n",
            "  2.2438164e-03 -4.4162981e-03  5.7822447e-03  1.8332616e-03\n",
            " -2.2809024e-03 -5.8862912e-03 -8.0342507e-03 -8.5375487e-04\n",
            " -8.9473343e-03 -9.2318701e-03 -7.9470584e-03  2.1711432e-03\n",
            " -6.5066582e-03 -7.7952524e-03  2.1330670e-03  2.0544732e-03\n",
            "  8.3558327e-03  4.6719722e-03 -9.4186338e-03 -3.3909618e-04\n",
            "  7.8610638e-03  2.6737747e-03  2.6827343e-03 -4.8881741e-03\n",
            "  6.4730425e-03  1.6502796e-03 -7.6090065e-03  6.8701818e-03\n",
            " -9.7780265e-03 -8.1659732e-03 -4.8784278e-03  9.9466294e-03\n",
            "  3.1159753e-03 -2.0138198e-03  8.9032492e-03  2.3532875e-03]\n"
          ]
        }
      ]
    },
    {
      "cell_type": "code",
      "source": [
        "#11. How can you perform part-of-speech tagging\n",
        "\n",
        "text = \"NLTK is a leading library for NLP.\"\n",
        "token = nltk.word_tokenize(text)\n",
        "pos_tags = nltk.pos_tag(token)\n",
        "pos_tags"
      ],
      "metadata": {
        "colab": {
          "base_uri": "https://localhost:8080/"
        },
        "id": "zwdVaKKPZz4v",
        "outputId": "a23cb802-b1f3-4d16-a2bb-08b92069a981"
      },
      "execution_count": 29,
      "outputs": [
        {
          "output_type": "execute_result",
          "data": {
            "text/plain": [
              "[('NLTK', 'NNP'),\n",
              " ('is', 'VBZ'),\n",
              " ('a', 'DT'),\n",
              " ('leading', 'JJ'),\n",
              " ('library', 'NN'),\n",
              " ('for', 'IN'),\n",
              " ('NLP', 'NNP'),\n",
              " ('.', '.')]"
            ]
          },
          "metadata": {},
          "execution_count": 29
        }
      ]
    },
    {
      "cell_type": "code",
      "source": [
        "#12. How can you find the similarity between two sentences using cosine similarity\n",
        "\n",
        "from sklearn.feature_extraction.text import TfidfVectorizer\n",
        "from sklearn.metrics.pairwise import cosine_similarity\n",
        "sentences = [\"This is a sentence.\", \"This sentence is different.\"]\n",
        "vectorizer = TfidfVectorizer()\n",
        "tfidf_matrix = vectorizer.fit_transform(sentences)\n",
        "similarity = cosine_similarity(tfidf_matrix[0:1], tfidf_matrix[1:2])\n",
        "print(similarity)"
      ],
      "metadata": {
        "colab": {
          "base_uri": "https://localhost:8080/"
        },
        "id": "R-FgsYAcaUz2",
        "outputId": "afae1590-1bcc-4981-e7d5-13db2a344671"
      },
      "execution_count": 31,
      "outputs": [
        {
          "output_type": "stream",
          "name": "stdout",
          "text": [
            "[[0.77651453]]\n"
          ]
        }
      ]
    },
    {
      "cell_type": "code",
      "source": [
        "#13. How can you extract named entities from a sentence\n",
        "\n",
        "text = \"Barack Obama was the 44th President of the United States.\"\n",
        "token = nltk.word_tokenize(text)\n",
        "pos_tags = nltk.pos_tag(token)\n",
        "named_ent =  nltk.ne_chunk(pos_tags)\n",
        "named_ent"
      ],
      "metadata": {
        "colab": {
          "base_uri": "https://localhost:8080/",
          "height": 367
        },
        "id": "XBk_ULV3af-5",
        "outputId": "0eeb73ae-96e8-42bb-f08a-50feb0370a52"
      },
      "execution_count": 36,
      "outputs": [
        {
          "output_type": "error",
          "ename": "ModuleNotFoundError",
          "evalue": "No module named 'svgling'",
          "traceback": [
            "\u001b[0;31m---------------------------------------------------------------------------\u001b[0m",
            "\u001b[0;31mModuleNotFoundError\u001b[0m                       Traceback (most recent call last)",
            "\u001b[0;32m/usr/local/lib/python3.10/dist-packages/IPython/core/formatters.py\u001b[0m in \u001b[0;36m__call__\u001b[0;34m(self, obj)\u001b[0m\n\u001b[1;32m    343\u001b[0m             \u001b[0mmethod\u001b[0m \u001b[0;34m=\u001b[0m \u001b[0mget_real_method\u001b[0m\u001b[0;34m(\u001b[0m\u001b[0mobj\u001b[0m\u001b[0;34m,\u001b[0m \u001b[0mself\u001b[0m\u001b[0;34m.\u001b[0m\u001b[0mprint_method\u001b[0m\u001b[0;34m)\u001b[0m\u001b[0;34m\u001b[0m\u001b[0;34m\u001b[0m\u001b[0m\n\u001b[1;32m    344\u001b[0m             \u001b[0;32mif\u001b[0m \u001b[0mmethod\u001b[0m \u001b[0;32mis\u001b[0m \u001b[0;32mnot\u001b[0m \u001b[0;32mNone\u001b[0m\u001b[0;34m:\u001b[0m\u001b[0;34m\u001b[0m\u001b[0;34m\u001b[0m\u001b[0m\n\u001b[0;32m--> 345\u001b[0;31m                 \u001b[0;32mreturn\u001b[0m \u001b[0mmethod\u001b[0m\u001b[0;34m(\u001b[0m\u001b[0;34m)\u001b[0m\u001b[0;34m\u001b[0m\u001b[0;34m\u001b[0m\u001b[0m\n\u001b[0m\u001b[1;32m    346\u001b[0m             \u001b[0;32mreturn\u001b[0m \u001b[0;32mNone\u001b[0m\u001b[0;34m\u001b[0m\u001b[0;34m\u001b[0m\u001b[0m\n\u001b[1;32m    347\u001b[0m         \u001b[0;32melse\u001b[0m\u001b[0;34m:\u001b[0m\u001b[0;34m\u001b[0m\u001b[0;34m\u001b[0m\u001b[0m\n",
            "\u001b[0;32m/usr/local/lib/python3.10/dist-packages/nltk/tree/tree.py\u001b[0m in \u001b[0;36m_repr_svg_\u001b[0;34m(self)\u001b[0m\n\u001b[1;32m    780\u001b[0m \u001b[0;34m\u001b[0m\u001b[0m\n\u001b[1;32m    781\u001b[0m     \u001b[0;32mdef\u001b[0m \u001b[0m_repr_svg_\u001b[0m\u001b[0;34m(\u001b[0m\u001b[0mself\u001b[0m\u001b[0;34m)\u001b[0m\u001b[0;34m:\u001b[0m\u001b[0;34m\u001b[0m\u001b[0;34m\u001b[0m\u001b[0m\n\u001b[0;32m--> 782\u001b[0;31m         \u001b[0;32mfrom\u001b[0m \u001b[0msvgling\u001b[0m \u001b[0;32mimport\u001b[0m \u001b[0mdraw_tree\u001b[0m\u001b[0;34m\u001b[0m\u001b[0;34m\u001b[0m\u001b[0m\n\u001b[0m\u001b[1;32m    783\u001b[0m \u001b[0;34m\u001b[0m\u001b[0m\n\u001b[1;32m    784\u001b[0m         \u001b[0;32mreturn\u001b[0m \u001b[0mdraw_tree\u001b[0m\u001b[0;34m(\u001b[0m\u001b[0mself\u001b[0m\u001b[0;34m)\u001b[0m\u001b[0;34m.\u001b[0m\u001b[0m_repr_svg_\u001b[0m\u001b[0;34m(\u001b[0m\u001b[0;34m)\u001b[0m\u001b[0;34m\u001b[0m\u001b[0;34m\u001b[0m\u001b[0m\n",
            "\u001b[0;31mModuleNotFoundError\u001b[0m: No module named 'svgling'"
          ]
        },
        {
          "output_type": "execute_result",
          "data": {
            "text/plain": [
              "Tree('S', [Tree('PERSON', [('Barack', 'NNP')]), Tree('PERSON', [('Obama', 'NNP')]), ('was', 'VBD'), ('the', 'DT'), ('44th', 'JJ'), ('President', 'NNP'), ('of', 'IN'), ('the', 'DT'), Tree('GPE', [('United', 'NNP'), ('States', 'NNPS')]), ('.', '.')])"
            ]
          },
          "metadata": {},
          "execution_count": 36
        }
      ]
    },
    {
      "cell_type": "code",
      "source": [
        "#14. How can you split a large document into smaller chunks of text\n",
        "\n",
        "text = \"This is a large document. It has many sentences. Splitting it into chunks.\"\n",
        "chunks = text.split('.')\n",
        "print([chunk.strip() for chunk in chunks if chunk])"
      ],
      "metadata": {
        "colab": {
          "base_uri": "https://localhost:8080/"
        },
        "id": "6OaY_GONa5ok",
        "outputId": "7d9e7efa-bdeb-44ad-b299-90b926927091"
      },
      "execution_count": 37,
      "outputs": [
        {
          "output_type": "stream",
          "name": "stdout",
          "text": [
            "['This is a large document', 'It has many sentences', 'Splitting it into chunks']\n"
          ]
        }
      ]
    },
    {
      "cell_type": "code",
      "source": [
        "#15. How can you calculate the TF-IDF (Term Frequency - Inverse Document Frequency) for a set of documents\n",
        "\n",
        "from sklearn.feature_extraction.text import TfidfVectorizer\n",
        "documents = [\"This is the first document.\", \"This document is the second document.\"]\n",
        "vectorizer = TfidfVectorizer()\n",
        "tfidf_matrix = vectorizer.fit_transform(documents)\n",
        "print(tfidf_matrix.toarray())"
      ],
      "metadata": {
        "colab": {
          "base_uri": "https://localhost:8080/"
        },
        "id": "PrPISC-zbHeX",
        "outputId": "9c70ae36-5f44-4d3b-9425-00ac7619145c"
      },
      "execution_count": 38,
      "outputs": [
        {
          "output_type": "stream",
          "name": "stdout",
          "text": [
            "[[0.4090901  0.57496187 0.4090901  0.         0.4090901  0.4090901 ]\n",
            " [0.66758217 0.         0.33379109 0.46913173 0.33379109 0.33379109]]\n"
          ]
        }
      ]
    },
    {
      "cell_type": "code",
      "source": [
        "#16. How can you apply tokenization, stopword removal, and stemming in one go\n",
        "\n",
        "stop_words = set(stopwords.words(\"english\"))\n",
        "ps = PorterStemmer()\n",
        "text = \"This is a simple example showing tokenization, stopword removal, and stemming.\"\n",
        "tokens = word_tokenize(text)\n",
        "processed_text = [ps.stem(word) for word in tokens if word.lower() not in stop_words]\n",
        "print(processed_text)"
      ],
      "metadata": {
        "colab": {
          "base_uri": "https://localhost:8080/"
        },
        "id": "p5h6UgBybPKv",
        "outputId": "9d401bbe-aa74-4801-dca0-3bfd7aae6365"
      },
      "execution_count": 40,
      "outputs": [
        {
          "output_type": "stream",
          "name": "stdout",
          "text": [
            "['simpl', 'exampl', 'show', 'token', ',', 'stopword', 'remov', ',', 'stem', '.']\n"
          ]
        }
      ]
    },
    {
      "cell_type": "code",
      "source": [
        "#17. How can you visualize the frequency distribution of words in a sentence\n",
        "from nltk import FreqDist\n",
        "import matplotlib.pyplot as plt\n",
        "text = \"This is a sentence. This is another sentence.\"\n",
        "words = nltk.word_tokenize(text)\n",
        "fdist = FreqDist(words)\n",
        "fdist.plot(30, cumulative=False)\n",
        "plt.show()"
      ],
      "metadata": {
        "colab": {
          "base_uri": "https://localhost:8080/",
          "height": 499
        },
        "id": "3zYxNv-fbVGi",
        "outputId": "84683412-44bf-40be-b2cc-9e5f7da4485b"
      },
      "execution_count": 42,
      "outputs": [
        {
          "output_type": "display_data",
          "data": {
            "text/plain": [
              "<Figure size 640x480 with 1 Axes>"
            ],
            "image/png": "[encoded data removed]"
          },
          "metadata": {}
        }
      ]
    }
  ]
}